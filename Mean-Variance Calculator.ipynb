{
 "cells": [
  {
   "cell_type": "code",
   "execution_count": 1,
   "metadata": {},
   "outputs": [],
   "source": [
    "# Import the necessary libraries\n",
    "import numpy as np\n",
    "import pandas as pd\n"
   ]
  },
  {
   "cell_type": "code",
   "execution_count": 2,
   "metadata": {},
   "outputs": [],
   "source": [
    "# Create a function that takes a list of elements and calculates the descriptive statistics\n",
    "def calculate(list_of_elements = []):\n",
    "    try:\n",
    "        b = np.array(list_of_elements)\n",
    "        c = b.reshape((3,3))\n",
    "        return {'Mean':[list(c.mean(axis=0)), list(c.mean(axis=1)), c.mean()],\n",
    "                'Variance':[list(c.var(axis=0)), list(c.var(axis=1)), c.var()],\n",
    "                'Standard deviation':[list(c.std(axis=0)), list(c.std(axis=1)), c.std()],\n",
    "                'Max':[list(c.max(axis=0)), list(c.max(axis=1)), c.max()],\n",
    "                'Min':[list(c.min(axis=0)), list(c.min(axis=1)), c.min()],\n",
    "                'Sum':[list(c.sum(axis=0)), list(c.sum(axis=1)), c.sum()]}\n",
    "    except ValueError:\n",
    "        print(\"List must contain 9 numbers\")"
   ]
  },
  {
   "cell_type": "code",
   "execution_count": 5,
   "metadata": {},
   "outputs": [
    {
     "data": {
      "text/plain": [
       "{'Mean': [[29.0, 16.0, 46.333333333333336],\n",
       "  [15.666666666666666, 20.0, 55.666666666666664],\n",
       "  30.444444444444443],\n",
       " 'Variance': [[368.6666666666667, 14.0, 973.5555555555555],\n",
       "  [6.222222222222221, 56.0, 793.5555555555555],\n",
       "  606.469135802469],\n",
       " 'Standard deviation': [[19.200694431886227,\n",
       "   3.7416573867739413,\n",
       "   31.201851796897497],\n",
       "  [2.494438257849294, 7.483314773547883, 28.1701181317288],\n",
       "  24.626594076373394],\n",
       " 'Max': [[56, 21, 90], [19, 30, 90], 90],\n",
       " 'Min': [[13, 12, 19], [13, 12, 21], 12],\n",
       " 'Sum': [[87, 48, 139], [47, 60, 167], 274]}"
      ]
     },
     "execution_count": 5,
     "metadata": {},
     "output_type": "execute_result"
    }
   ],
   "source": [
    "test_1 = calculate(list_of_elements=[13,15,19,18,12,30,56,21,90])\n",
    "test_1"
   ]
  },
  {
   "cell_type": "code",
   "execution_count": 6,
   "metadata": {},
   "outputs": [
    {
     "name": "stdout",
     "output_type": "stream",
     "text": [
      "List must contain 9 numbers\n"
     ]
    }
   ],
   "source": [
    "test_2 = calculate(list_of_elements=[10,15,16,18])"
   ]
  },
  {
   "cell_type": "code",
   "execution_count": null,
   "metadata": {},
   "outputs": [],
   "source": []
  }
 ],
 "metadata": {
  "kernelspec": {
   "display_name": "base",
   "language": "python",
   "name": "python3"
  },
  "language_info": {
   "codemirror_mode": {
    "name": "ipython",
    "version": 3
   },
   "file_extension": ".py",
   "mimetype": "text/x-python",
   "name": "python",
   "nbconvert_exporter": "python",
   "pygments_lexer": "ipython3",
   "version": "3.9.12"
  },
  "orig_nbformat": 4
 },
 "nbformat": 4,
 "nbformat_minor": 2
}
